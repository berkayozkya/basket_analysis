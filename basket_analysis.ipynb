{
  "cells": [
    {
      "cell_type": "code",
      "execution_count": null,
      "metadata": {
        "id": "xsMniozDsqUa"
      },
      "outputs": [],
      "source": [
        "import numpy as np\n",
        "import pandas as pd\n",
        "import matplotlib.pyplot as plt\n",
        "from mlxtend.preprocessing import TransactionEncoder\n",
        "from apyori import apriori\n",
        "from sklearn.preprocessing import OneHotEncoder"
      ]
    },
    {
      "cell_type": "code",
      "execution_count": null,
      "metadata": {
        "colab": {
          "base_uri": "https://localhost:8080/",
          "height": 424
        },
        "id": "B96FvFl6ssRG",
        "outputId": "e364bc50-faa0-4ebe-d01e-09e9d446d1a7"
      },
      "outputs": [
        {
          "data": {
            "text/html": [
              "\n",
              "  <div id=\"df-fc00e10a-fe29-457d-bcbe-3fc816dc3559\">\n",
              "    <div class=\"colab-df-container\">\n",
              "      <div>\n",
              "<style scoped>\n",
              "    .dataframe tbody tr th:only-of-type {\n",
              "        vertical-align: middle;\n",
              "    }\n",
              "\n",
              "    .dataframe tbody tr th {\n",
              "        vertical-align: top;\n",
              "    }\n",
              "\n",
              "    .dataframe thead th {\n",
              "        text-align: right;\n",
              "    }\n",
              "</style>\n",
              "<table border=\"1\" class=\"dataframe\">\n",
              "  <thead>\n",
              "    <tr style=\"text-align: right;\">\n",
              "      <th></th>\n",
              "      <th>0</th>\n",
              "      <th>1</th>\n",
              "      <th>2</th>\n",
              "      <th>3</th>\n",
              "      <th>4</th>\n",
              "      <th>5</th>\n",
              "      <th>6</th>\n",
              "    </tr>\n",
              "  </thead>\n",
              "  <tbody>\n",
              "    <tr>\n",
              "      <th>0</th>\n",
              "      <td>Bread</td>\n",
              "      <td>Wine</td>\n",
              "      <td>Eggs</td>\n",
              "      <td>Meat</td>\n",
              "      <td>Cheese</td>\n",
              "      <td>Pencil</td>\n",
              "      <td>Diaper</td>\n",
              "    </tr>\n",
              "    <tr>\n",
              "      <th>1</th>\n",
              "      <td>Bread</td>\n",
              "      <td>Cheese</td>\n",
              "      <td>Meat</td>\n",
              "      <td>Diaper</td>\n",
              "      <td>Wine</td>\n",
              "      <td>Milk</td>\n",
              "      <td>Pencil</td>\n",
              "    </tr>\n",
              "    <tr>\n",
              "      <th>2</th>\n",
              "      <td>Cheese</td>\n",
              "      <td>Meat</td>\n",
              "      <td>Eggs</td>\n",
              "      <td>Milk</td>\n",
              "      <td>Wine</td>\n",
              "      <td>NaN</td>\n",
              "      <td>NaN</td>\n",
              "    </tr>\n",
              "    <tr>\n",
              "      <th>3</th>\n",
              "      <td>Cheese</td>\n",
              "      <td>Meat</td>\n",
              "      <td>Eggs</td>\n",
              "      <td>Milk</td>\n",
              "      <td>Wine</td>\n",
              "      <td>NaN</td>\n",
              "      <td>NaN</td>\n",
              "    </tr>\n",
              "    <tr>\n",
              "      <th>4</th>\n",
              "      <td>Meat</td>\n",
              "      <td>Pencil</td>\n",
              "      <td>Wine</td>\n",
              "      <td>NaN</td>\n",
              "      <td>NaN</td>\n",
              "      <td>NaN</td>\n",
              "      <td>NaN</td>\n",
              "    </tr>\n",
              "    <tr>\n",
              "      <th>...</th>\n",
              "      <td>...</td>\n",
              "      <td>...</td>\n",
              "      <td>...</td>\n",
              "      <td>...</td>\n",
              "      <td>...</td>\n",
              "      <td>...</td>\n",
              "      <td>...</td>\n",
              "    </tr>\n",
              "    <tr>\n",
              "      <th>310</th>\n",
              "      <td>Bread</td>\n",
              "      <td>Eggs</td>\n",
              "      <td>Cheese</td>\n",
              "      <td>NaN</td>\n",
              "      <td>NaN</td>\n",
              "      <td>NaN</td>\n",
              "      <td>NaN</td>\n",
              "    </tr>\n",
              "    <tr>\n",
              "      <th>311</th>\n",
              "      <td>Meat</td>\n",
              "      <td>Milk</td>\n",
              "      <td>Pencil</td>\n",
              "      <td>NaN</td>\n",
              "      <td>NaN</td>\n",
              "      <td>NaN</td>\n",
              "      <td>NaN</td>\n",
              "    </tr>\n",
              "    <tr>\n",
              "      <th>312</th>\n",
              "      <td>Bread</td>\n",
              "      <td>Cheese</td>\n",
              "      <td>Eggs</td>\n",
              "      <td>Meat</td>\n",
              "      <td>Pencil</td>\n",
              "      <td>Diaper</td>\n",
              "      <td>Wine</td>\n",
              "    </tr>\n",
              "    <tr>\n",
              "      <th>313</th>\n",
              "      <td>Meat</td>\n",
              "      <td>Cheese</td>\n",
              "      <td>NaN</td>\n",
              "      <td>NaN</td>\n",
              "      <td>NaN</td>\n",
              "      <td>NaN</td>\n",
              "      <td>NaN</td>\n",
              "    </tr>\n",
              "    <tr>\n",
              "      <th>314</th>\n",
              "      <td>Eggs</td>\n",
              "      <td>Wine</td>\n",
              "      <td>Bagel</td>\n",
              "      <td>Bread</td>\n",
              "      <td>Meat</td>\n",
              "      <td>NaN</td>\n",
              "      <td>NaN</td>\n",
              "    </tr>\n",
              "  </tbody>\n",
              "</table>\n",
              "<p>315 rows × 7 columns</p>\n",
              "</div>\n",
              "      <button class=\"colab-df-convert\" onclick=\"convertToInteractive('df-fc00e10a-fe29-457d-bcbe-3fc816dc3559')\"\n",
              "              title=\"Convert this dataframe to an interactive table.\"\n",
              "              style=\"display:none;\">\n",
              "        \n",
              "  <svg xmlns=\"http://www.w3.org/2000/svg\" height=\"24px\"viewBox=\"0 0 24 24\"\n",
              "       width=\"24px\">\n",
              "    <path d=\"M0 0h24v24H0V0z\" fill=\"none\"/>\n",
              "    <path d=\"M18.56 5.44l.94 2.06.94-2.06 2.06-.94-2.06-.94-.94-2.06-.94 2.06-2.06.94zm-11 1L8.5 8.5l.94-2.06 2.06-.94-2.06-.94L8.5 2.5l-.94 2.06-2.06.94zm10 10l.94 2.06.94-2.06 2.06-.94-2.06-.94-.94-2.06-.94 2.06-2.06.94z\"/><path d=\"M17.41 7.96l-1.37-1.37c-.4-.4-.92-.59-1.43-.59-.52 0-1.04.2-1.43.59L10.3 9.45l-7.72 7.72c-.78.78-.78 2.05 0 2.83L4 21.41c.39.39.9.59 1.41.59.51 0 1.02-.2 1.41-.59l7.78-7.78 2.81-2.81c.8-.78.8-2.07 0-2.86zM5.41 20L4 18.59l7.72-7.72 1.47 1.35L5.41 20z\"/>\n",
              "  </svg>\n",
              "      </button>\n",
              "      \n",
              "  <style>\n",
              "    .colab-df-container {\n",
              "      display:flex;\n",
              "      flex-wrap:wrap;\n",
              "      gap: 12px;\n",
              "    }\n",
              "\n",
              "    .colab-df-convert {\n",
              "      background-color: #E8F0FE;\n",
              "      border: none;\n",
              "      border-radius: 50%;\n",
              "      cursor: pointer;\n",
              "      display: none;\n",
              "      fill: #1967D2;\n",
              "      height: 32px;\n",
              "      padding: 0 0 0 0;\n",
              "      width: 32px;\n",
              "    }\n",
              "\n",
              "    .colab-df-convert:hover {\n",
              "      background-color: #E2EBFA;\n",
              "      box-shadow: 0px 1px 2px rgba(60, 64, 67, 0.3), 0px 1px 3px 1px rgba(60, 64, 67, 0.15);\n",
              "      fill: #174EA6;\n",
              "    }\n",
              "\n",
              "    [theme=dark] .colab-df-convert {\n",
              "      background-color: #3B4455;\n",
              "      fill: #D2E3FC;\n",
              "    }\n",
              "\n",
              "    [theme=dark] .colab-df-convert:hover {\n",
              "      background-color: #434B5C;\n",
              "      box-shadow: 0px 1px 3px 1px rgba(0, 0, 0, 0.15);\n",
              "      filter: drop-shadow(0px 1px 2px rgba(0, 0, 0, 0.3));\n",
              "      fill: #FFFFFF;\n",
              "    }\n",
              "  </style>\n",
              "\n",
              "      <script>\n",
              "        const buttonEl =\n",
              "          document.querySelector('#df-fc00e10a-fe29-457d-bcbe-3fc816dc3559 button.colab-df-convert');\n",
              "        buttonEl.style.display =\n",
              "          google.colab.kernel.accessAllowed ? 'block' : 'none';\n",
              "\n",
              "        async function convertToInteractive(key) {\n",
              "          const element = document.querySelector('#df-fc00e10a-fe29-457d-bcbe-3fc816dc3559');\n",
              "          const dataTable =\n",
              "            await google.colab.kernel.invokeFunction('convertToInteractive',\n",
              "                                                     [key], {});\n",
              "          if (!dataTable) return;\n",
              "\n",
              "          const docLinkHtml = 'Like what you see? Visit the ' +\n",
              "            '<a target=\"_blank\" href=https://colab.research.google.com/notebooks/data_table.ipynb>data table notebook</a>'\n",
              "            + ' to learn more about interactive tables.';\n",
              "          element.innerHTML = '';\n",
              "          dataTable['output_type'] = 'display_data';\n",
              "          await google.colab.output.renderOutput(dataTable, element);\n",
              "          const docLink = document.createElement('div');\n",
              "          docLink.innerHTML = docLinkHtml;\n",
              "          element.appendChild(docLink);\n",
              "        }\n",
              "      </script>\n",
              "    </div>\n",
              "  </div>\n",
              "  "
            ],
            "text/plain": [
              "          0       1       2       3       4       5       6\n",
              "0     Bread    Wine    Eggs    Meat  Cheese  Pencil  Diaper\n",
              "1     Bread  Cheese    Meat  Diaper    Wine    Milk  Pencil\n",
              "2    Cheese    Meat    Eggs    Milk    Wine     NaN     NaN\n",
              "3    Cheese    Meat    Eggs    Milk    Wine     NaN     NaN\n",
              "4      Meat  Pencil    Wine     NaN     NaN     NaN     NaN\n",
              "..      ...     ...     ...     ...     ...     ...     ...\n",
              "310   Bread    Eggs  Cheese     NaN     NaN     NaN     NaN\n",
              "311    Meat    Milk  Pencil     NaN     NaN     NaN     NaN\n",
              "312   Bread  Cheese    Eggs    Meat  Pencil  Diaper    Wine\n",
              "313    Meat  Cheese     NaN     NaN     NaN     NaN     NaN\n",
              "314    Eggs    Wine   Bagel   Bread    Meat     NaN     NaN\n",
              "\n",
              "[315 rows x 7 columns]"
            ]
          },
          "execution_count": 20,
          "metadata": {},
          "output_type": "execute_result"
        }
      ],
      "source": [
        "data = pd.read_csv(\"/data/basket_analysis_dataset.csv\")\n",
        "data"
      ]
    },
    {
      "cell_type": "code",
      "execution_count": null,
      "metadata": {
        "colab": {
          "base_uri": "https://localhost:8080/"
        },
        "id": "mb7Dfqll8W1n",
        "outputId": "71c5257c-c481-45e0-c683-bf81788d9fe4"
      },
      "outputs": [
        {
          "name": "stdout",
          "output_type": "stream",
          "text": [
            "Bagel     134\n",
            "Bread     159\n",
            "Cheese    158\n",
            "Diaper    128\n",
            "Eggs      138\n",
            "Meat      150\n",
            "Milk      158\n",
            "Pencil    114\n",
            "Wine      138\n",
            "dtype: int64\n"
          ]
        }
      ],
      "source": [
        "count0 = data[\"0\"].value_counts()\n",
        "count1 = data[\"1\"].value_counts()\n",
        "count2 = data[\"2\"].value_counts()\n",
        "count3 = data[\"3\"].value_counts()\n",
        "count4 = data[\"4\"].value_counts()\n",
        "count5 = data[\"5\"].value_counts()\n",
        "count6 = data[\"6\"].value_counts()\n",
        "\n",
        "count = count0+count1+count2+count3+count4+count5+count6\n",
        "\n",
        "print(count)"
      ]
    },
    {
      "cell_type": "code",
      "execution_count": null,
      "metadata": {
        "id": "tBgtcl65tDzQ"
      },
      "outputs": [],
      "source": [
        "records  = []\n",
        "for i in range(1, 315):\n",
        "    records .append([str(data.values[i, j]) for j in range(0,7)])\n",
        "    "
      ]
    },
    {
      "cell_type": "code",
      "execution_count": null,
      "metadata": {
        "colab": {
          "base_uri": "https://localhost:8080/"
        },
        "id": "s2_I_SdvtLYx",
        "outputId": "e1488d67-a9c2-4ae9-a481-2de25e37e635"
      },
      "outputs": [
        {
          "name": "stdout",
          "output_type": "stream",
          "text": [
            "<class 'list'>\n"
          ]
        }
      ],
      "source": [
        "print(type(records))\n"
      ]
    },
    {
      "cell_type": "code",
      "execution_count": null,
      "metadata": {
        "id": "Y1F1hKcStPEk"
      },
      "outputs": [],
      "source": [
        "association_rules = apriori(records, min_support=0.02, min_confidence=0.3, min_lift=2)\n",
        "association_results = list(association_rules)"
      ]
    },
    {
      "cell_type": "code",
      "execution_count": null,
      "metadata": {
        "colab": {
          "base_uri": "https://localhost:8080/"
        },
        "id": "leWaHl9btRdL",
        "outputId": "17e26a31-edb9-49fd-dd0a-8495a4359589"
      },
      "outputs": [
        {
          "name": "stdout",
          "output_type": "stream",
          "text": [
            "32 ilişki türetilmiştir\n"
          ]
        }
      ],
      "source": [
        "print(\"{} ilişki türetilmiştir\".format(len(association_results)))\n"
      ]
    },
    {
      "cell_type": "code",
      "execution_count": null,
      "metadata": {
        "colab": {
          "base_uri": "https://localhost:8080/"
        },
        "id": "Y7ddiHXAtb7D",
        "outputId": "45c41096-5ee5-4c60-db86-c4d8aaf9078e"
      },
      "outputs": [
        {
          "name": "stdout",
          "output_type": "stream",
          "text": [
            "Rule: Milk -> Eggs\n",
            "Support: 0.06369426751592357\n",
            "=====================================\n",
            "Rule: Milk -> Cheese\n",
            "Support: 0.15286624203821655\n",
            "=====================================\n",
            "Rule: Bread -> Meat\n",
            "Support: 0.041401273885350316\n",
            "=====================================\n",
            "Rule: Pencil -> Milk\n",
            "Support: 0.028662420382165606\n",
            "=====================================\n",
            "Rule: Wine -> Milk\n",
            "Support: 0.03184713375796178\n",
            "=====================================\n",
            "Rule: Eggs -> Meat\n",
            "Support: 0.03821656050955414\n",
            "=====================================\n",
            "Rule: Wine -> Eggs\n",
            "Support: 0.03503184713375796\n",
            "=====================================\n",
            "Rule: Wine -> Pencil\n",
            "Support: 0.03184713375796178\n",
            "=====================================\n",
            "Rule: Wine -> Eggs\n",
            "Support: 0.028662420382165606\n",
            "=====================================\n",
            "Rule: Wine -> Pencil\n",
            "Support: 0.025477707006369428\n",
            "=====================================\n",
            "Rule: Milk -> Bread\n",
            "Support: 0.03503184713375796\n",
            "=====================================\n",
            "Rule: Pencil -> Milk\n",
            "Support: 0.041401273885350316\n",
            "=====================================\n",
            "Rule: Wine -> Milk\n",
            "Support: 0.050955414012738856\n",
            "=====================================\n",
            "Rule: Pencil -> Milk\n",
            "Support: 0.03821656050955414\n",
            "=====================================\n",
            "Rule: Wine -> Pencil\n",
            "Support: 0.050955414012738856\n",
            "=====================================\n",
            "Rule: Milk -> Bread\n",
            "Support: 0.025477707006369428\n",
            "=====================================\n",
            "Rule: Wine -> Milk\n",
            "Support: 0.03503184713375796\n",
            "=====================================\n",
            "Rule: Pencil -> Milk\n",
            "Support: 0.03503184713375796\n",
            "=====================================\n",
            "Rule: Wine -> Milk\n",
            "Support: 0.041401273885350316\n",
            "=====================================\n",
            "Rule: Wine -> Pencil\n",
            "Support: 0.044585987261146494\n",
            "=====================================\n",
            "Rule: Wine -> Pencil\n",
            "Support: 0.044585987261146494\n",
            "=====================================\n",
            "Rule: Milk -> nan\n",
            "Support: 0.1178343949044586\n",
            "=====================================\n",
            "Rule: Wine -> Pencil\n",
            "Support: 0.041401273885350316\n",
            "=====================================\n",
            "Rule: Bread -> nan\n",
            "Support: 0.025477707006369428\n",
            "=====================================\n",
            "Rule: Wine -> Eggs\n",
            "Support: 0.022292993630573247\n",
            "=====================================\n",
            "Rule: Wine -> Milk\n",
            "Support: 0.022292993630573247\n",
            "=====================================\n",
            "Rule: Wine -> Pencil\n",
            "Support: 0.022292993630573247\n",
            "=====================================\n",
            "Rule: Pencil -> Milk\n",
            "Support: 0.022292993630573247\n",
            "=====================================\n",
            "Rule: Wine -> Pencil\n",
            "Support: 0.028662420382165606\n",
            "=====================================\n",
            "Rule: Wine -> Pencil\n",
            "Support: 0.03184713375796178\n",
            "=====================================\n",
            "Rule: Wine -> Pencil\n",
            "Support: 0.022292993630573247\n",
            "=====================================\n",
            "Rule: Wine -> Milk\n",
            "Support: 0.041401273885350316\n",
            "=====================================\n"
          ]
        }
      ],
      "source": [
        "for item in association_results:\n",
        "    # first index of the inner list\n",
        "    # Contains base item and add item\n",
        "    pair = item[0]\n",
        "    items = [x for x in pair]\n",
        "    print(\"Rule: \" + items[0] + \" -> \" + items[1])\n",
        "\n",
        "    # second index of the inner list\n",
        "    print(\"Support: \" + str(item[1]))\n",
        "\n",
        "  \n",
        "    print(\"=====================================\")"
      ]
    },
    {
      "cell_type": "code",
      "execution_count": null,
      "metadata": {
        "id": "zy83Ko5h7wKC"
      },
      "outputs": [],
      "source": [
        "ohe = OneHotEncoder()"
      ]
    },
    {
      "cell_type": "code",
      "execution_count": null,
      "metadata": {
        "colab": {
          "base_uri": "https://localhost:8080/"
        },
        "id": "_KzeDc9g7zYx",
        "outputId": "1b661350-2c29-4f49-9200-06ef606a43f7"
      },
      "outputs": [
        {
          "name": "stdout",
          "output_type": "stream",
          "text": [
            "[[0. 1. 0. ... 0. 0. 0.]\n",
            " [0. 1. 0. ... 1. 0. 0.]\n",
            " [0. 0. 1. ... 0. 0. 1.]\n",
            " ...\n",
            " [0. 1. 0. ... 0. 1. 0.]\n",
            " [0. 0. 0. ... 0. 0. 1.]\n",
            " [0. 0. 0. ... 0. 0. 1.]]\n"
          ]
        }
      ],
      "source": [
        "datao = ohe.fit_transform(data).toarray()\n",
        "print(datao)"
      ]
    }
  ],
  "metadata": {
    "colab": {
      "provenance": []
    },
    "kernelspec": {
      "display_name": "Python 3",
      "name": "python3"
    },
    "language_info": {
      "name": "python"
    }
  },
  "nbformat": 4,
  "nbformat_minor": 0
}
